{
  "cells": [
    {
      "cell_type": "markdown",
      "metadata": {
        "id": "0GDu2NiooCda"
      },
      "source": [
        "# Theano Tensor Indexing"
      ]
    },
    {
      "cell_type": "code",
      "source": [
        "!pip install theano tensor"
      ],
      "metadata": {
        "colab": {
          "base_uri": "https://localhost:8080/"
        },
        "id": "2QvZ18EsoVB6",
        "outputId": "959c301c-06e3-4fa4-94d6-f3d38d58d974"
      },
      "execution_count": null,
      "outputs": [
        {
          "output_type": "stream",
          "name": "stdout",
          "text": [
            "Requirement already satisfied: theano in /usr/local/lib/python3.10/dist-packages (1.0.5)\n",
            "Collecting tensor\n",
            "  Downloading tensor-0.3.6.tar.gz (50 kB)\n",
            "\u001b[2K     \u001b[90m━━━━━━━━━━━━━━━━━━━━━━━━━━━━━━━━━━━━━━━━\u001b[0m \u001b[32m50.3/50.3 kB\u001b[0m \u001b[31m1.9 MB/s\u001b[0m eta \u001b[36m0:00:00\u001b[0m\n",
            "\u001b[?25h  Preparing metadata (setup.py) ... \u001b[?25l\u001b[?25hdone\n",
            "Requirement already satisfied: numpy>=1.9.1 in /usr/local/lib/python3.10/dist-packages (from theano) (1.25.2)\n",
            "Requirement already satisfied: scipy>=0.14 in /usr/local/lib/python3.10/dist-packages (from theano) (1.11.4)\n",
            "Requirement already satisfied: six>=1.9.0 in /usr/local/lib/python3.10/dist-packages (from theano) (1.16.0)\n",
            "Collecting Twisted (from tensor)\n",
            "  Downloading twisted-24.3.0-py3-none-any.whl (3.2 MB)\n",
            "\u001b[2K     \u001b[90m━━━━━━━━━━━━━━━━━━━━━━━━━━━━━━━━━━━━━━━━\u001b[0m \u001b[32m3.2/3.2 MB\u001b[0m \u001b[31m15.1 MB/s\u001b[0m eta \u001b[36m0:00:00\u001b[0m\n",
            "\u001b[?25hRequirement already satisfied: PyYaml in /usr/local/lib/python3.10/dist-packages (from tensor) (6.0.1)\n",
            "Requirement already satisfied: protobuf in /usr/local/lib/python3.10/dist-packages (from tensor) (3.20.3)\n",
            "Collecting construct (from tensor)\n",
            "  Downloading construct-2.10.70-py3-none-any.whl (63 kB)\n",
            "\u001b[2K     \u001b[90m━━━━━━━━━━━━━━━━━━━━━━━━━━━━━━━━━━━━━━━━\u001b[0m \u001b[32m63.0/63.0 kB\u001b[0m \u001b[31m8.5 MB/s\u001b[0m eta \u001b[36m0:00:00\u001b[0m\n",
            "\u001b[?25hCollecting pysnmp (from tensor)\n",
            "  Downloading pysnmp-4.4.12-py2.py3-none-any.whl (296 kB)\n",
            "\u001b[2K     \u001b[90m━━━━━━━━━━━━━━━━━━━━━━━━━━━━━━━━━━━━━━━━\u001b[0m \u001b[32m296.5/296.5 kB\u001b[0m \u001b[31m19.1 MB/s\u001b[0m eta \u001b[36m0:00:00\u001b[0m\n",
            "\u001b[?25hCollecting pysmi (from pysnmp->tensor)\n",
            "  Downloading pysmi-0.3.4-py2.py3-none-any.whl (80 kB)\n",
            "\u001b[2K     \u001b[90m━━━━━━━━━━━━━━━━━━━━━━━━━━━━━━━━━━━━━━━━\u001b[0m \u001b[32m80.0/80.0 kB\u001b[0m \u001b[31m11.2 MB/s\u001b[0m eta \u001b[36m0:00:00\u001b[0m\n",
            "\u001b[?25hCollecting pycryptodomex (from pysnmp->tensor)\n",
            "  Downloading pycryptodomex-3.20.0-cp35-abi3-manylinux_2_17_x86_64.manylinux2014_x86_64.whl (2.1 MB)\n",
            "\u001b[2K     \u001b[90m━━━━━━━━━━━━━━━━━━━━━━━━━━━━━━━━━━━━━━━━\u001b[0m \u001b[32m2.1/2.1 MB\u001b[0m \u001b[31m29.2 MB/s\u001b[0m eta \u001b[36m0:00:00\u001b[0m\n",
            "\u001b[?25hRequirement already satisfied: pyasn1>=0.2.3 in /usr/local/lib/python3.10/dist-packages (from pysnmp->tensor) (0.6.0)\n",
            "Requirement already satisfied: attrs>=21.3.0 in /usr/local/lib/python3.10/dist-packages (from Twisted->tensor) (23.2.0)\n",
            "Collecting automat>=0.8.0 (from Twisted->tensor)\n",
            "  Downloading Automat-22.10.0-py2.py3-none-any.whl (26 kB)\n",
            "Collecting constantly>=15.1 (from Twisted->tensor)\n",
            "  Downloading constantly-23.10.4-py3-none-any.whl (13 kB)\n",
            "Collecting hyperlink>=17.1.1 (from Twisted->tensor)\n",
            "  Downloading hyperlink-21.0.0-py2.py3-none-any.whl (74 kB)\n",
            "\u001b[2K     \u001b[90m━━━━━━━━━━━━━━━━━━━━━━━━━━━━━━━━━━━━━━━━\u001b[0m \u001b[32m74.6/74.6 kB\u001b[0m \u001b[31m9.2 MB/s\u001b[0m eta \u001b[36m0:00:00\u001b[0m\n",
            "\u001b[?25hCollecting incremental>=22.10.0 (from Twisted->tensor)\n",
            "  Downloading incremental-22.10.0-py2.py3-none-any.whl (16 kB)\n",
            "Requirement already satisfied: typing-extensions>=4.2.0 in /usr/local/lib/python3.10/dist-packages (from Twisted->tensor) (4.11.0)\n",
            "Collecting zope-interface>=5 (from Twisted->tensor)\n",
            "  Downloading zope.interface-6.3-cp310-cp310-manylinux_2_5_x86_64.manylinux1_x86_64.manylinux_2_17_x86_64.manylinux2014_x86_64.whl (247 kB)\n",
            "\u001b[2K     \u001b[90m━━━━━━━━━━━━━━━━━━━━━━━━━━━━━━━━━━━━━━━━\u001b[0m \u001b[32m247.3/247.3 kB\u001b[0m \u001b[31m26.9 MB/s\u001b[0m eta \u001b[36m0:00:00\u001b[0m\n",
            "\u001b[?25hRequirement already satisfied: idna>=2.5 in /usr/local/lib/python3.10/dist-packages (from hyperlink>=17.1.1->Twisted->tensor) (3.7)\n",
            "Requirement already satisfied: setuptools in /usr/local/lib/python3.10/dist-packages (from zope-interface>=5->Twisted->tensor) (67.7.2)\n",
            "Collecting ply (from pysmi->pysnmp->tensor)\n",
            "  Downloading ply-3.11-py2.py3-none-any.whl (49 kB)\n",
            "\u001b[2K     \u001b[90m━━━━━━━━━━━━━━━━━━━━━━━━━━━━━━━━━━━━━━━━\u001b[0m \u001b[32m49.6/49.6 kB\u001b[0m \u001b[31m6.7 MB/s\u001b[0m eta \u001b[36m0:00:00\u001b[0m\n",
            "\u001b[?25hBuilding wheels for collected packages: tensor\n",
            "  Building wheel for tensor (setup.py) ... \u001b[?25l\u001b[?25hdone\n",
            "  Created wheel for tensor: filename=tensor-0.3.6-py3-none-any.whl size=71552 sha256=83194cef82ba89b12d1a77e540ebc1a06bc84ccd1f0fc410cffc20570c9e9a76\n",
            "  Stored in directory: /root/.cache/pip/wheels/b8/d7/e8/f4760f8bcef039fce5899d36f67a8447aaeb1b816741791610\n",
            "Successfully built tensor\n",
            "Installing collected packages: ply, incremental, zope-interface, pysmi, pycryptodomex, hyperlink, construct, constantly, automat, Twisted, pysnmp, tensor\n",
            "Successfully installed Twisted-24.3.0 automat-22.10.0 constantly-23.10.4 construct-2.10.70 hyperlink-21.0.0 incremental-22.10.0 ply-3.11 pycryptodomex-3.20.0 pysmi-0.3.4 pysnmp-4.4.12 tensor-0.3.6 zope-interface-6.3\n"
          ]
        }
      ]
    },
    {
      "cell_type": "code",
      "execution_count": null,
      "metadata": {
        "id": "SBpMjZX2oCdc"
      },
      "outputs": [],
      "source": [
        "import theano\n",
        "import theano.tensor as T\n",
        "import numpy as np"
      ]
    },
    {
      "cell_type": "code",
      "execution_count": null,
      "metadata": {
        "id": "LBtRnbGMoCde",
        "outputId": "bfdb81d9-3562-4c3b-bc78-8826889a06c5"
      },
      "outputs": [
        {
          "name": "stdout",
          "output_type": "stream",
          "text": [
            "[1 3 5 7]\n"
          ]
        }
      ],
      "source": [
        "t = T.arange(9)\n",
        "\n",
        "print t[1::2].eval()"
      ]
    },
    {
      "cell_type": "code",
      "execution_count": null,
      "metadata": {
        "id": "oJsRhtdnoCdg",
        "outputId": "4b09851e-f03e-4406-e4c4-cf3995205c94"
      },
      "outputs": [
        {
          "name": "stdout",
          "output_type": "stream",
          "text": [
            "[1 3 5 7]\n"
          ]
        }
      ],
      "source": [
        "n = np.arange(9)\n",
        "\n",
        "print n[1::2]"
      ]
    },
    {
      "cell_type": "code",
      "execution_count": null,
      "metadata": {
        "id": "ifkRJ2cJoCdh",
        "outputId": "ffd0055a-12cb-4d38-ed16-a22ea8dc0caa"
      },
      "outputs": [
        {
          "name": "stdout",
          "output_type": "stream",
          "text": [
            "[[[0 1 2]\n",
            "  [0 1 2]\n",
            "  [0 1 2]]\n",
            "\n",
            " [[0 1 2]\n",
            "  [0 1 2]\n",
            "  [3 4 5]]\n",
            "\n",
            " [[3 4 5]\n",
            "  [3 4 5]\n",
            "  [3 4 5]]]\n"
          ]
        }
      ],
      "source": [
        "t = T.arange(9).reshape((3,3))\n",
        "\n",
        "print t[t > 4].eval()"
      ]
    },
    {
      "cell_type": "code",
      "execution_count": null,
      "metadata": {
        "id": "zM-JpDBZoCdi",
        "outputId": "c0d9f676-eafe-42fe-8825-1ab42beccf65"
      },
      "outputs": [
        {
          "name": "stdout",
          "output_type": "stream",
          "text": [
            "[5 6 7 8]\n"
          ]
        }
      ],
      "source": [
        "n = np.arange(9).reshape((3,3))\n",
        "\n",
        "print n[n > 4]"
      ]
    },
    {
      "cell_type": "code",
      "execution_count": null,
      "metadata": {
        "id": "smdaKkoMoCdi",
        "outputId": "3182e58f-3bbc-4914-cc2d-d1bfe1e63749"
      },
      "outputs": [
        {
          "name": "stdout",
          "output_type": "stream",
          "text": [
            "[5 6 7 8]\n"
          ]
        }
      ],
      "source": [
        "print t[(t > 4).nonzero()].eval()"
      ]
    },
    {
      "cell_type": "code",
      "execution_count": null,
      "metadata": {
        "id": "w2UKBGkOoCdj"
      },
      "outputs": [],
      "source": [
        "r = T.vector()\n",
        "\n",
        "new_r = T.set_subtensor(r[10:], 5)"
      ]
    },
    {
      "cell_type": "markdown",
      "metadata": {
        "id": "MNERQa2doCdj"
      },
      "source": [
        "### T.inc_subtensor(x, y)"
      ]
    },
    {
      "cell_type": "code",
      "execution_count": null,
      "metadata": {
        "collapsed": true,
        "id": "cXSMh75AoCdk"
      },
      "outputs": [],
      "source": [
        "r = T.vector()\n",
        "\n",
        "new_r = T.inc_subtensor(r[10:], 5)"
      ]
    }
  ],
  "metadata": {
    "kernelspec": {
      "display_name": "Python 2",
      "language": "python",
      "name": "python2"
    },
    "language_info": {
      "codemirror_mode": {
        "name": "ipython",
        "version": 2
      },
      "file_extension": ".py",
      "mimetype": "text/x-python",
      "name": "python",
      "nbconvert_exporter": "python",
      "pygments_lexer": "ipython2",
      "version": "2.7.6"
    },
    "colab": {
      "provenance": []
    }
  },
  "nbformat": 4,
  "nbformat_minor": 0
}