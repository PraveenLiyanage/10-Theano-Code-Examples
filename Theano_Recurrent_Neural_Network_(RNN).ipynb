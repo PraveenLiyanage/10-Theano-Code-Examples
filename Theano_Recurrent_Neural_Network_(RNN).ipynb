{
  "nbformat": 4,
  "nbformat_minor": 0,
  "metadata": {
    "colab": {
      "provenance": []
    },
    "kernelspec": {
      "name": "python3",
      "display_name": "Python 3"
    },
    "language_info": {
      "name": "python"
    }
  },
  "cells": [
    {
      "cell_type": "code",
      "source": [
        "!pip install theano numpy"
      ],
      "metadata": {
        "colab": {
          "base_uri": "https://localhost:8080/"
        },
        "id": "a8MBneiq111n",
        "outputId": "68c0e640-d4d0-4c2e-d006-3add550086b5"
      },
      "execution_count": null,
      "outputs": [
        {
          "output_type": "stream",
          "name": "stdout",
          "text": [
            "Collecting theano\n",
            "  Downloading Theano-1.0.5.tar.gz (2.8 MB)\n",
            "\u001b[2K     \u001b[90m━━━━━━━━━━━━━━━━━━━━━━━━━━━━━━━━━━━━━━━━\u001b[0m \u001b[32m2.8/2.8 MB\u001b[0m \u001b[31m10.1 MB/s\u001b[0m eta \u001b[36m0:00:00\u001b[0m\n",
            "\u001b[?25h  Preparing metadata (setup.py) ... \u001b[?25l\u001b[?25hdone\n",
            "Requirement already satisfied: numpy in /usr/local/lib/python3.10/dist-packages (1.25.2)\n",
            "Requirement already satisfied: scipy>=0.14 in /usr/local/lib/python3.10/dist-packages (from theano) (1.11.4)\n",
            "Requirement already satisfied: six>=1.9.0 in /usr/local/lib/python3.10/dist-packages (from theano) (1.16.0)\n",
            "Building wheels for collected packages: theano\n",
            "  Building wheel for theano (setup.py) ... \u001b[?25l\u001b[?25hdone\n",
            "  Created wheel for theano: filename=Theano-1.0.5-py3-none-any.whl size=2668109 sha256=8359a81c65a56036012acc5e86c349e5f1ae32b70479b40ee87b5c62815ef633\n",
            "  Stored in directory: /root/.cache/pip/wheels/d9/e6/7d/2267d21a99e4ab8276f976f293b4ff23f50c9d809f4a216ebb\n",
            "Successfully built theano\n",
            "Installing collected packages: theano\n",
            "Successfully installed theano-1.0.5\n"
          ]
        }
      ]
    },
    {
      "cell_type": "code",
      "execution_count": null,
      "metadata": {
        "id": "BL6NlhkJ4V_E"
      },
      "outputs": [],
      "source": [
        "import numpy as np\n",
        "import theano\n",
        "import theano.tensor as T\n",
        "from keras.datasets import imdb\n",
        "from keras.preprocessing import sequence\n",
        "from keras.utils import np_utils"
      ]
    },
    {
      "cell_type": "code",
      "source": [
        "# Load and preprocess the IMDB dataset\n",
        "max_features = 20000\n",
        "maxlen = 100\n",
        "(X_train, y_train), (X_test, y_test) = imdb.load_data(num_words=max_features)\n",
        "X_train = sequence.pad_sequences(X_train, maxlen=maxlen)\n",
        "X_test = sequence.pad_sequences(X_test, maxlen=maxlen)\n",
        "y_train = np_utils.to_categorical(y_train, 2)\n",
        "y_test = np_utils.to_categorical(y_test, 2)"
      ],
      "metadata": {
        "id": "bVSSLIIf4aIi"
      },
      "execution_count": null,
      "outputs": []
    },
    {
      "cell_type": "code",
      "source": [
        "# Define Theano symbolic variables\n",
        "X_theano = T.imatrix('X')\n",
        "y_theano = T.matrix('y')"
      ],
      "metadata": {
        "id": "fTObVTAz4eN9"
      },
      "execution_count": null,
      "outputs": []
    },
    {
      "cell_type": "code",
      "source": [
        "embed_dim = 128\n",
        "hidden_dim = 64\n",
        "W_embed = theano.shared(np.random.randn(max_features, embed_dim), name='W_embed')\n",
        "W_hidden = theano.shared(np.random.randn(embed_dim, hidden_dim), name='W_hidden')\n",
        "b_hidden = theano.shared(np.zeros((hidden_dim,)), name='b_hidden')\n",
        "W_output = theano.shared(np.random.randn(hidden_dim, 2), name='W_output')\n",
        "b_output = theano.shared(np.zeros((2,)), name='b_output')"
      ],
      "metadata": {
        "id": "okUTUf044ghU"
      },
      "execution_count": null,
      "outputs": []
    },
    {
      "cell_type": "code",
      "source": [
        "# Define the forward pass\n",
        "embedded = T.dot(X_theano, W_embed)\n",
        "hidden = T.tanh(T.dot(embedded, W_hidden) + b_hidden)\n",
        "y_pred = T.nnet.softmax(T.dot(hidden, W_output) + b_output)\n",
        "\n",
        "# Define the cost function (cross-entropy)\n",
        "cost = T.mean(T.nnet.categorical_crossentropy(y_pred, y_theano))\n",
        "\n",
        "# Define gradients\n",
        "params = [W_embed, W_hidden, b_hidden, W_output, b_output]\n",
        "grads = T.grad(cost, params)"
      ],
      "metadata": {
        "id": "XXx-n5zE4i-j"
      },
      "execution_count": null,
      "outputs": []
    },
    {
      "cell_type": "code",
      "source": [
        "updates = [(param, param - 0.01 * grad) for param, grad in zip(params, grads)]\n",
        "train = theano.function(inputs=[X_theano, y_theano], outputs=cost, updates=updates)\n",
        "predict = theano.function(inputs=[X_theano], outputs=T.argmax(y_pred, axis=1))"
      ],
      "metadata": {
        "id": "jW05J8AF4qkF"
      },
      "execution_count": null,
      "outputs": []
    },
    {
      "cell_type": "code",
      "source": [
        "# Train the model\n",
        "batch_size = 128\n",
        "num_batches = X_train.shape[0] // batch_size\n",
        "epochs = 5\n",
        "for epoch in range(epochs):\n",
        "    for batch in range(num_batches):\n",
        "        start = batch * batch_size\n",
        "        end = start + batch_size\n",
        "        train(X_train[start:end], y_train[start:end])\n",
        "\n",
        "# Evaluate the model\n",
        "predictions = predict(X_test)\n",
        "accuracy = np.mean(predictions == np.argmax(y_test, axis=1))\n",
        "print(\"Accuracy:\", accuracy)"
      ],
      "metadata": {
        "id": "2ywlZcNj4usX"
      },
      "execution_count": null,
      "outputs": []
    }
  ]
}