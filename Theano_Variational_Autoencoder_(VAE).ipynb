{
  "nbformat": 4,
  "nbformat_minor": 0,
  "metadata": {
    "colab": {
      "provenance": []
    },
    "kernelspec": {
      "name": "python3",
      "display_name": "Python 3"
    },
    "language_info": {
      "name": "python"
    }
  },
  "cells": [
    {
      "cell_type": "code",
      "source": [
        "!pip install theano tensor"
      ],
      "metadata": {
        "colab": {
          "base_uri": "https://localhost:8080/"
        },
        "id": "gL39Lrq2C4M5",
        "outputId": "1184b9f5-79d3-4b2e-f1df-4e988c5e2ea7"
      },
      "execution_count": null,
      "outputs": [
        {
          "output_type": "stream",
          "name": "stdout",
          "text": [
            "Collecting theano\n",
            "  Downloading Theano-1.0.5.tar.gz (2.8 MB)\n",
            "\u001b[2K     \u001b[90m━━━━━━━━━━━━━━━━━━━━━━━━━━━━━━━━━━━━━━━━\u001b[0m \u001b[32m2.8/2.8 MB\u001b[0m \u001b[31m6.6 MB/s\u001b[0m eta \u001b[36m0:00:00\u001b[0m\n",
            "\u001b[?25h  Preparing metadata (setup.py) ... \u001b[?25l\u001b[?25hdone\n",
            "Collecting tensor\n",
            "  Downloading tensor-0.3.6.tar.gz (50 kB)\n",
            "\u001b[2K     \u001b[90m━━━━━━━━━━━━━━━━━━━━━━━━━━━━━━━━━━━━━━━━\u001b[0m \u001b[32m50.3/50.3 kB\u001b[0m \u001b[31m909.0 kB/s\u001b[0m eta \u001b[36m0:00:00\u001b[0m\n",
            "\u001b[?25h  Preparing metadata (setup.py) ... \u001b[?25l\u001b[?25hdone\n",
            "Requirement already satisfied: numpy>=1.9.1 in /usr/local/lib/python3.10/dist-packages (from theano) (1.25.2)\n",
            "Requirement already satisfied: scipy>=0.14 in /usr/local/lib/python3.10/dist-packages (from theano) (1.11.4)\n",
            "Requirement already satisfied: six>=1.9.0 in /usr/local/lib/python3.10/dist-packages (from theano) (1.16.0)\n",
            "Collecting Twisted (from tensor)\n",
            "  Downloading twisted-24.3.0-py3-none-any.whl (3.2 MB)\n",
            "\u001b[2K     \u001b[90m━━━━━━━━━━━━━━━━━━━━━━━━━━━━━━━━━━━━━━━━\u001b[0m \u001b[32m3.2/3.2 MB\u001b[0m \u001b[31m33.5 MB/s\u001b[0m eta \u001b[36m0:00:00\u001b[0m\n",
            "\u001b[?25hRequirement already satisfied: PyYaml in /usr/local/lib/python3.10/dist-packages (from tensor) (6.0.1)\n",
            "Requirement already satisfied: protobuf in /usr/local/lib/python3.10/dist-packages (from tensor) (3.20.3)\n",
            "Collecting construct (from tensor)\n",
            "  Downloading construct-2.10.70-py3-none-any.whl (63 kB)\n",
            "\u001b[2K     \u001b[90m━━━━━━━━━━━━━━━━━━━━━━━━━━━━━━━━━━━━━━━━\u001b[0m \u001b[32m63.0/63.0 kB\u001b[0m \u001b[31m5.0 MB/s\u001b[0m eta \u001b[36m0:00:00\u001b[0m\n",
            "\u001b[?25hCollecting pysnmp (from tensor)\n",
            "  Downloading pysnmp-4.4.12-py2.py3-none-any.whl (296 kB)\n",
            "\u001b[2K     \u001b[90m━━━━━━━━━━━━━━━━━━━━━━━━━━━━━━━━━━━━━━━━\u001b[0m \u001b[32m296.5/296.5 kB\u001b[0m \u001b[31m11.8 MB/s\u001b[0m eta \u001b[36m0:00:00\u001b[0m\n",
            "\u001b[?25hCollecting pysmi (from pysnmp->tensor)\n",
            "  Downloading pysmi-0.3.4-py2.py3-none-any.whl (80 kB)\n",
            "\u001b[2K     \u001b[90m━━━━━━━━━━━━━━━━━━━━━━━━━━━━━━━━━━━━━━━━\u001b[0m \u001b[32m80.0/80.0 kB\u001b[0m \u001b[31m5.1 MB/s\u001b[0m eta \u001b[36m0:00:00\u001b[0m\n",
            "\u001b[?25hCollecting pycryptodomex (from pysnmp->tensor)\n",
            "  Downloading pycryptodomex-3.20.0-cp35-abi3-manylinux_2_17_x86_64.manylinux2014_x86_64.whl (2.1 MB)\n",
            "\u001b[2K     \u001b[90m━━━━━━━━━━━━━━━━━━━━━━━━━━━━━━━━━━━━━━━━\u001b[0m \u001b[32m2.1/2.1 MB\u001b[0m \u001b[31m32.3 MB/s\u001b[0m eta \u001b[36m0:00:00\u001b[0m\n",
            "\u001b[?25hRequirement already satisfied: pyasn1>=0.2.3 in /usr/local/lib/python3.10/dist-packages (from pysnmp->tensor) (0.6.0)\n",
            "Requirement already satisfied: attrs>=21.3.0 in /usr/local/lib/python3.10/dist-packages (from Twisted->tensor) (23.2.0)\n",
            "Collecting automat>=0.8.0 (from Twisted->tensor)\n",
            "  Downloading Automat-22.10.0-py2.py3-none-any.whl (26 kB)\n",
            "Collecting constantly>=15.1 (from Twisted->tensor)\n",
            "  Downloading constantly-23.10.4-py3-none-any.whl (13 kB)\n",
            "Collecting hyperlink>=17.1.1 (from Twisted->tensor)\n",
            "  Downloading hyperlink-21.0.0-py2.py3-none-any.whl (74 kB)\n",
            "\u001b[2K     \u001b[90m━━━━━━━━━━━━━━━━━━━━━━━━━━━━━━━━━━━━━━━━\u001b[0m \u001b[32m74.6/74.6 kB\u001b[0m \u001b[31m6.7 MB/s\u001b[0m eta \u001b[36m0:00:00\u001b[0m\n",
            "\u001b[?25hCollecting incremental>=22.10.0 (from Twisted->tensor)\n",
            "  Downloading incremental-22.10.0-py2.py3-none-any.whl (16 kB)\n",
            "Requirement already satisfied: typing-extensions>=4.2.0 in /usr/local/lib/python3.10/dist-packages (from Twisted->tensor) (4.11.0)\n",
            "Collecting zope-interface>=5 (from Twisted->tensor)\n",
            "  Downloading zope.interface-6.3-cp310-cp310-manylinux_2_5_x86_64.manylinux1_x86_64.manylinux_2_17_x86_64.manylinux2014_x86_64.whl (247 kB)\n",
            "\u001b[2K     \u001b[90m━━━━━━━━━━━━━━━━━━━━━━━━━━━━━━━━━━━━━━━━\u001b[0m \u001b[32m247.3/247.3 kB\u001b[0m \u001b[31m12.4 MB/s\u001b[0m eta \u001b[36m0:00:00\u001b[0m\n",
            "\u001b[?25hRequirement already satisfied: idna>=2.5 in /usr/local/lib/python3.10/dist-packages (from hyperlink>=17.1.1->Twisted->tensor) (3.7)\n",
            "Requirement already satisfied: setuptools in /usr/local/lib/python3.10/dist-packages (from zope-interface>=5->Twisted->tensor) (67.7.2)\n",
            "Collecting ply (from pysmi->pysnmp->tensor)\n",
            "  Downloading ply-3.11-py2.py3-none-any.whl (49 kB)\n",
            "\u001b[2K     \u001b[90m━━━━━━━━━━━━━━━━━━━━━━━━━━━━━━━━━━━━━━━━\u001b[0m \u001b[32m49.6/49.6 kB\u001b[0m \u001b[31m2.7 MB/s\u001b[0m eta \u001b[36m0:00:00\u001b[0m\n",
            "\u001b[?25hBuilding wheels for collected packages: theano, tensor\n",
            "  Building wheel for theano (setup.py) ... \u001b[?25l\u001b[?25hdone\n",
            "  Created wheel for theano: filename=Theano-1.0.5-py3-none-any.whl size=2668109 sha256=d5afa3163d1eed3d1965a619fa0de14433f8ad0e36d07157836a07c594ee7e23\n",
            "  Stored in directory: /root/.cache/pip/wheels/d9/e6/7d/2267d21a99e4ab8276f976f293b4ff23f50c9d809f4a216ebb\n",
            "  Building wheel for tensor (setup.py) ... \u001b[?25l\u001b[?25hdone\n",
            "  Created wheel for tensor: filename=tensor-0.3.6-py3-none-any.whl size=71552 sha256=f7d6a5c29e9066fc3fdffbeada0df4016ba5228343e546b9a4e3093bae66ac01\n",
            "  Stored in directory: /root/.cache/pip/wheels/b8/d7/e8/f4760f8bcef039fce5899d36f67a8447aaeb1b816741791610\n",
            "Successfully built theano tensor\n",
            "Installing collected packages: ply, incremental, zope-interface, pysmi, pycryptodomex, hyperlink, construct, constantly, automat, Twisted, theano, pysnmp, tensor\n",
            "Successfully installed Twisted-24.3.0 automat-22.10.0 constantly-23.10.4 construct-2.10.70 hyperlink-21.0.0 incremental-22.10.0 ply-3.11 pycryptodomex-3.20.0 pysmi-0.3.4 pysnmp-4.4.12 tensor-0.3.6 theano-1.0.5 zope-interface-6.3\n"
          ]
        }
      ]
    },
    {
      "cell_type": "code",
      "execution_count": null,
      "metadata": {
        "id": "U64YIG9c5ray"
      },
      "outputs": [],
      "source": [
        "import numpy as np\n",
        "import theano\n",
        "import theano.tensor as T\n",
        "from keras.datasets import mnist"
      ]
    },
    {
      "cell_type": "code",
      "source": [
        "# Load the MNIST dataset\n",
        "(X_train, y_train), (X_test, y_test) = mnist.load_data()\n",
        "X_train = X_train.reshape(X_train.shape[0], -1).astype('float32') / 255.0\n",
        "X_test = X_test.reshape(X_test.shape[0], -1).astype('float32') / 255.0\n",
        "\n",
        "# Define Theano symbolic variables\n",
        "X_theano = T.matrix('X')"
      ],
      "metadata": {
        "id": "an-zIgGF5vbZ"
      },
      "execution_count": null,
      "outputs": []
    },
    {
      "cell_type": "code",
      "source": [
        "input_dim = X_train.shape[1]\n",
        "hidden_dim = 256\n",
        "latent_dim = 2\n",
        "W_enc_mean = theano.shared(np.random.randn(input_dim, hidden_dim), name='W_enc_mean')\n",
        "b_enc_mean = theano.shared(np.zeros((hidden_dim,)), name='b_enc_mean')\n",
        "W_enc_logvar = theano.shared(np.random.randn(input_dim, hidden_dim), name='W_enc_logvar')\n",
        "b_enc_logvar = theano.shared(np.zeros((hidden_dim,)), name='b_enc_logvar')\n",
        "W_dec = theano.shared(np.random.randn(hidden_dim, input_dim), name='W_dec')\n",
        "b_dec = theano.shared(np.zeros((input_dim,)), name='b_dec')"
      ],
      "metadata": {
        "id": "E3Mv7MZW5yE6"
      },
      "execution_count": null,
      "outputs": []
    },
    {
      "cell_type": "code",
      "source": [
        "enc_hidden = T.tanh(T.dot(X_theano, W_enc_mean) + b_enc_mean)\n",
        "enc_mean = T.dot(enc_hidden, W_enc_mean) + b_enc_mean\n",
        "enc_logvar = T.dot(enc_hidden, W_enc_logvar) + b_enc_logvar"
      ],
      "metadata": {
        "id": "QMEUzD-e50PN"
      },
      "execution_count": null,
      "outputs": []
    },
    {
      "cell_type": "code",
      "source": [
        "epsilon = theano.shared(np.random.randn(input_dim, hidden_dim), name='epsilon')\n",
        "latent_z = enc_mean + T.exp(0.5 * enc_logvar) * epsilon"
      ],
      "metadata": {
        "id": "IfaSSbAp52W0"
      },
      "execution_count": null,
      "outputs": []
    },
    {
      "cell_type": "code",
      "source": [
        "dec_hidden = T.tanh(T.dot(latent_z, W_dec) + b_dec)\n",
        "dec_output = T.nnet.sigmoid(T.dot(dec_hidden, W_dec) + b_dec)"
      ],
      "metadata": {
        "id": "OBj3SzG26Xbh"
      },
      "execution_count": null,
      "outputs": []
    },
    {
      "cell_type": "code",
      "source": [
        "# Define the reconstruction loss\n",
        "recon_loss = -T.mean(T.sum(X_theano * T.log(dec_output) + (1 - X_theano) * T.log(1 - dec_output), axis=1))"
      ],
      "metadata": {
        "id": "1S5d4Q2b6aiO"
      },
      "execution_count": null,
      "outputs": []
    },
    {
      "cell_type": "code",
      "source": [
        "# Define the KL divergence\n",
        "kl_divergence = -0.5 * T.mean(1 + enc_logvar - T.square(enc_mean) - T.exp(enc_logvar))"
      ],
      "metadata": {
        "id": "MNSNf12R6edQ"
      },
      "execution_count": null,
      "outputs": []
    },
    {
      "cell_type": "code",
      "source": [
        "# Define the total loss\n",
        "total_loss = recon_loss + kl_divergence"
      ],
      "metadata": {
        "id": "b4_6nv736hHP"
      },
      "execution_count": null,
      "outputs": []
    },
    {
      "cell_type": "code",
      "source": [
        "params = [W_enc_mean, b_enc_mean, W_enc_logvar, b_enc_logvar, W_dec, b_dec]\n",
        "grads = T.grad(total_loss, params)"
      ],
      "metadata": {
        "id": "_nE5bzqp6kWm"
      },
      "execution_count": null,
      "outputs": []
    },
    {
      "cell_type": "code",
      "source": [
        "updates = [(param, param - 0.01 * grad) for param, grad in zip(params, grads)]\n",
        "train = theano.function(inputs=[X_theano], outputs=total_loss, updates=updates)"
      ],
      "metadata": {
        "id": "IocPP5U06nQ1"
      },
      "execution_count": null,
      "outputs": []
    },
    {
      "cell_type": "code",
      "source": [
        "batch_size = 128\n",
        "num_batches = X_train.shape[0]\n",
        "epochs = 10\n",
        "for epoch in range(epochs):\n",
        "    for batch in range(num_batches):\n",
        "        start = batch * batch_size\n",
        "        end = start + batch_size\n",
        "        train(X_train[start:end])"
      ],
      "metadata": {
        "id": "NmZVt3YA6p2v"
      },
      "execution_count": null,
      "outputs": []
    },
    {
      "cell_type": "code",
      "source": [
        "# Generate new images\n",
        "latent_samples = np.random.randn(10, latent_dim)\n",
        "generated_images = theano.function(inputs=[latent_z], outputs=dec_output)\n",
        "generated_images = generated_images(latent_samples)"
      ],
      "metadata": {
        "id": "VWWm0Af86shU"
      },
      "execution_count": null,
      "outputs": []
    }
  ]
}