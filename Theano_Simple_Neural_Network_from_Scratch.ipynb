{
  "nbformat": 4,
  "nbformat_minor": 0,
  "metadata": {
    "colab": {
      "provenance": [],
      "gpuType": "T4"
    },
    "kernelspec": {
      "name": "python3",
      "display_name": "Python 3"
    },
    "language_info": {
      "name": "python"
    },
    "accelerator": "GPU"
  },
  "cells": [
    {
      "cell_type": "code",
      "execution_count": null,
      "metadata": {
        "colab": {
          "base_uri": "https://localhost:8080/"
        },
        "id": "X2vucfHE01E5",
        "outputId": "144f192d-2fe2-4ef0-e7e1-b93c9047bae1"
      },
      "outputs": [
        {
          "output_type": "stream",
          "name": "stdout",
          "text": [
            "Collecting theano==1.0.5\n",
            "  Downloading Theano-1.0.5.tar.gz (2.8 MB)\n",
            "\u001b[2K     \u001b[90m━━━━━━━━━━━━━━━━━━━━━━━━━━━━━━━━━━━━━━━━\u001b[0m \u001b[32m2.8/2.8 MB\u001b[0m \u001b[31m13.0 MB/s\u001b[0m eta \u001b[36m0:00:00\u001b[0m\n",
            "\u001b[?25h  Preparing metadata (setup.py) ... \u001b[?25l\u001b[?25hdone\n",
            "Requirement already satisfied: numpy>=1.9.1 in /usr/local/lib/python3.10/dist-packages (from theano==1.0.5) (1.25.2)\n",
            "Requirement already satisfied: scipy>=0.14 in /usr/local/lib/python3.10/dist-packages (from theano==1.0.5) (1.11.4)\n",
            "Requirement already satisfied: six>=1.9.0 in /usr/local/lib/python3.10/dist-packages (from theano==1.0.5) (1.16.0)\n",
            "Building wheels for collected packages: theano\n",
            "  Building wheel for theano (setup.py) ... \u001b[?25l\u001b[?25hdone\n",
            "  Created wheel for theano: filename=Theano-1.0.5-py3-none-any.whl size=2668109 sha256=75f8ce74e2363005ace6cd768d117565dc94fcacf143e9ebc185aa47b9aeefb9\n",
            "  Stored in directory: /root/.cache/pip/wheels/d9/e6/7d/2267d21a99e4ab8276f976f293b4ff23f50c9d809f4a216ebb\n",
            "Successfully built theano\n",
            "Installing collected packages: theano\n",
            "Successfully installed theano-1.0.5\n"
          ]
        }
      ],
      "source": [
        "pip install theano==1.0.5"
      ]
    },
    {
      "cell_type": "code",
      "source": [
        "!pip install numpy scikit-learn"
      ],
      "metadata": {
        "colab": {
          "base_uri": "https://localhost:8080/"
        },
        "id": "Fa4wg1a91bkl",
        "outputId": "099be069-b3c8-4dbf-e75b-06a3fdecb484"
      },
      "execution_count": null,
      "outputs": [
        {
          "output_type": "stream",
          "name": "stdout",
          "text": [
            "Requirement already satisfied: numpy in /usr/local/lib/python3.10/dist-packages (1.25.2)\n",
            "Requirement already satisfied: scikit-learn in /usr/local/lib/python3.10/dist-packages (1.2.2)\n",
            "Requirement already satisfied: scipy>=1.3.2 in /usr/local/lib/python3.10/dist-packages (from scikit-learn) (1.11.4)\n",
            "Requirement already satisfied: joblib>=1.1.1 in /usr/local/lib/python3.10/dist-packages (from scikit-learn) (1.4.2)\n",
            "Requirement already satisfied: threadpoolctl>=2.0.0 in /usr/local/lib/python3.10/dist-packages (from scikit-learn) (3.5.0)\n"
          ]
        }
      ]
    },
    {
      "cell_type": "code",
      "source": [
        "import numpy as np\n",
        "import theano\n",
        "import theano.tensor as T\n",
        "from sklearn.datasets import make_classification\n",
        "from sklearn.model_selection import train_test_split"
      ],
      "metadata": {
        "id": "7cMBxViU3due"
      },
      "execution_count": null,
      "outputs": []
    },
    {
      "cell_type": "code",
      "source": [
        "# Generate synthetic data\n",
        "X, y = make_classification(n_samples=1000, n_features=20, n_classes=2, random_state=42)\n",
        "X_train, X_test, y_train, y_test = train_test_split(X, y, test_size=0.2, random_state=42)"
      ],
      "metadata": {
        "id": "9D3LGIQI3mCM"
      },
      "execution_count": null,
      "outputs": []
    },
    {
      "cell_type": "code",
      "source": [
        "# Define Theano symbolic variables\n",
        "X_theano = T.matrix('X')\n",
        "y_theano = T.ivector('y')"
      ],
      "metadata": {
        "id": "VIm4hPXw3o02"
      },
      "execution_count": null,
      "outputs": []
    },
    {
      "cell_type": "code",
      "source": [
        "W = theano.shared(np.random.randn(X_train.shape[1]), name='W')\n",
        "b = theano.shared(0., name='b')"
      ],
      "metadata": {
        "id": "4-faKRZ83rG6"
      },
      "execution_count": null,
      "outputs": []
    },
    {
      "cell_type": "code",
      "source": [
        "def sigmoid(z):\n",
        "    return 1 / (1 + T.exp(-z))\n",
        "\n",
        "# Define the forward pass\n",
        "z = T.dot(X_theano, W) + b\n",
        "y_pred = sigmoid(z)\n",
        "\n",
        "# Define the cost function (cross-entropy)\n",
        "cost = T.mean(T.nnet.binary_crossentropy(y_pred, y_theano))\n",
        "\n",
        "# Define gradients\n",
        "dW, db = T.grad(cost, [W, b])"
      ],
      "metadata": {
        "id": "tvhTJ64s3tnG"
      },
      "execution_count": null,
      "outputs": []
    },
    {
      "cell_type": "code",
      "source": [
        "train = theano.function(inputs=[X_theano, y_theano], outputs=cost, updates=((W, W - 0.1 * dW), (b, b - 0.1 * db)))\n",
        "predict = theano.function(inputs=[X_theano], outputs=y_pred > 0.5)"
      ],
      "metadata": {
        "id": "f_iUaqpB34Zu"
      },
      "execution_count": null,
      "outputs": []
    },
    {
      "cell_type": "code",
      "source": [
        "for i in range(100):\n",
        "    train(X_train, y_train)\n",
        "\n",
        "# Evaluate the model\n",
        "predictions = predict(X_test)\n",
        "accuracy = np.mean(predictions == y_test)"
      ],
      "metadata": {
        "id": "5mQLtZM735HS"
      },
      "execution_count": null,
      "outputs": []
    }
  ]
}